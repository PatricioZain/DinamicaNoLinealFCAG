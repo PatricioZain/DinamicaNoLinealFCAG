{
  "cells": [
    {
      "cell_type": "markdown",
      "metadata": {
        "id": "view-in-github",
        "colab_type": "text"
      },
      "source": [
        "<a href=\"https://colab.research.google.com/github/PatricioZain/DinamicaNoLinealFCAG/blob/main/Mapa_Standard.ipynb\" target=\"_parent\"><img src=\"https://colab.research.google.com/assets/colab-badge.svg\" alt=\"Open In Colab\"/></a>"
      ]
    },
    {
      "cell_type": "markdown",
      "source": [
        "# **Dinámica No Lineal**\n",
        "**Práctica 6** \\\n",
        "Mapa Standard\n",
        "\n",
        "\n",
        "\n",
        "\n",
        "\n"
      ],
      "metadata": {
        "id": "_QHD7jYzNjrJ"
      },
      "id": "_QHD7jYzNjrJ"
    },
    {
      "cell_type": "code",
      "execution_count": 1,
      "id": "a2dcaa82",
      "metadata": {
        "id": "a2dcaa82"
      },
      "outputs": [],
      "source": [
        "import numpy as np\n",
        "import matplotlib.pyplot as plt\n",
        "from numpy import pi"
      ]
    },
    {
      "cell_type": "markdown",
      "id": "1595f614",
      "metadata": {
        "id": "1595f614"
      },
      "source": [
        "Primero vamos a insertar parámetros de entrada \\\n",
        "$n_c$ es el número de condiciones iniciales.\\\n",
        "$n$ es el número de iteraciones.\\\n",
        "¡No excederse!"
      ]
    },
    {
      "cell_type": "code",
      "execution_count": 19,
      "id": "2e5b67ac",
      "metadata": {
        "id": "2e5b67ac"
      },
      "outputs": [],
      "source": [
        "nc = 1\n",
        "n = 10000"
      ]
    },
    {
      "cell_type": "markdown",
      "id": "3a93425b",
      "metadata": {
        "id": "3a93425b"
      },
      "source": [
        "Ahora el valor de la perturbación"
      ]
    },
    {
      "cell_type": "code",
      "execution_count": 3,
      "id": "f53a7b6a",
      "metadata": {
        "id": "f53a7b6a"
      },
      "outputs": [],
      "source": [
        "K = 1."
      ]
    },
    {
      "cell_type": "code",
      "execution_count": 4,
      "id": "d34a0eef",
      "metadata": {
        "id": "d34a0eef"
      },
      "outputs": [],
      "source": [
        "K2 = K/(2.*pi)"
      ]
    },
    {
      "cell_type": "markdown",
      "id": "ca38ba53",
      "metadata": {
        "id": "ca38ba53"
      },
      "source": [
        "Luego definimos las condiciones iniciales.\n",
        "Si $n_c = 1$, podemos definir $x_0$ e $y_0$"
      ]
    },
    {
      "cell_type": "code",
      "execution_count": 20,
      "id": "b6a7b934",
      "metadata": {
        "id": "b6a7b934"
      },
      "outputs": [],
      "source": [
        "x0 = 0.5\n",
        "y0 = 0.6"
      ]
    },
    {
      "cell_type": "markdown",
      "id": "04140466",
      "metadata": {
        "id": "04140466"
      },
      "source": [
        "Pero si $n_c > 1$, entonces generamos $n_c$ condiciones iniciales a lo largo del eje $x = x_0$. Lo hacemos con un if. "
      ]
    },
    {
      "cell_type": "code",
      "execution_count": 21,
      "id": "a8d82798",
      "metadata": {
        "id": "a8d82798"
      },
      "outputs": [],
      "source": [
        "nombre=f'Mapa Standard. K={K},x0={x0}'\n",
        " #es un string para identificar la imagen\n",
        "\n",
        "if (nc == 1):\n",
        "    y0 = y0\n",
        "    nombre=nombre+f',y0={y0}'\n",
        "\n",
        "else:\n",
        "    y0 = np.linspace(0,1,nc)\n"
      ]
    },
    {
      "cell_type": "markdown",
      "id": "96fea36a",
      "metadata": {
        "id": "96fea36a"
      },
      "source": [
        "Pregunta importante. ¿Querés guardar la imagen? Poner \"si\" o \"no\""
      ]
    },
    {
      "cell_type": "code",
      "execution_count": 7,
      "id": "f5053dbd",
      "metadata": {
        "id": "f5053dbd"
      },
      "outputs": [],
      "source": [
        "guardar = 'si'"
      ]
    },
    {
      "cell_type": "markdown",
      "id": "3e45bddb",
      "metadata": {
        "id": "3e45bddb"
      },
      "source": [
        "Ahora si, calculamos el Mapa Standard y graficamos\n"
      ]
    },
    {
      "cell_type": "code",
      "execution_count": 22,
      "id": "4c618d38",
      "metadata": {
        "colab": {
          "base_uri": "https://localhost:8080/",
          "height": 298
        },
        "id": "4c618d38",
        "outputId": "6053f24e-2cfb-42b7-ba50-74c3dbacc8b1"
      },
      "outputs": [
        {
          "output_type": "display_data",
          "data": {
            "text/plain": [
              "<Figure size 432x288 with 1 Axes>"
            ],
            "image/png": "[encoded data removed]"
          },
          "metadata": {
            "needs_background": "light"
          }
        }
      ],
      "source": [
        "xx = np.empty((n,))\n",
        "yy = np.empty((n,))\n",
        "\n",
        "for j in range (nc): #Por cada condición inicial\n",
        "    x, y = x0, y0[j] if nc > 1 else y0    \n",
        "\n",
        "    for i in range(n):\t#Cada iteración\n",
        "\n",
        "        y += K2 * np.sin(2.*pi*x)\n",
        "        x += y \n",
        "\n",
        "        y %= 1\n",
        "        x %= 1\n",
        "\n",
        "        yy[i], xx[i] = y, x\n",
        "\n",
        "\n",
        "    plt.plot(xx,yy,'.',markersize='0.1',color='k') \n",
        "    #si querés cambiar el grosor de los puntos, modifica el markersize\n",
        "\n",
        "plt.xlabel('x',fontsize='large')\n",
        "plt.ylabel('y',fontsize='large')\n",
        "plt.title(nombre)\n",
        "plt.xlim(0,1)\n",
        "plt.ylim(0,1)\n",
        "\n",
        "if(guardar == 'si'):\n",
        "    plt.savefig(nombre+'.png',dpi=500)\n"
      ]
    }
  ],
  "metadata": {
    "kernelspec": {
      "display_name": "Python 3 (ipykernel)",
      "language": "python",
      "name": "python3"
    },
    "language_info": {
      "codemirror_mode": {
        "name": "ipython",
        "version": 3
      },
      "file_extension": ".py",
      "mimetype": "text/x-python",
      "name": "python",
      "nbconvert_exporter": "python",
      "pygments_lexer": "ipython3",
      "version": "3.9.12"
    },
    "colab": {
      "provenance": [],
      "include_colab_link": true
    }
  },
  "nbformat": 4,
  "nbformat_minor": 5
}